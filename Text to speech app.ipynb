{
 "cells": [
  {
   "cell_type": "markdown",
   "id": "fbb20bfc",
   "metadata": {},
   "source": [
    "### A Text To Speech App"
   ]
  },
  {
   "cell_type": "code",
   "execution_count": null,
   "id": "005538d2",
   "metadata": {},
   "outputs": [],
   "source": [
    "from tkinter import *\n",
    "import pyttsx3 as pt\n",
    "root =Tk()\n",
    "root.geometry('400x200')\n",
    "root.title('Text To Speech App')\n",
    "\n",
    "img=PhotoImage(file=r\"C:\\Users\\HP\\Downloads\\voiceapp.png\")\n",
    "root.iconphoto(False,img)\n",
    "\n",
    "engine=pt.init()\n",
    "\n",
    "def speak():\n",
    "    entry=en.get()\n",
    "    engine.say(entry)\n",
    "    voices = engine.getProperty('voices')\n",
    "    engine.setProperty('voice', voices[1].id)\n",
    "    engine.runAndWait()\n",
    "    engine.stop()\n",
    "\n",
    "\n",
    "label1=Label(root,text='Text to speech',font='ar 16 bold', fg='black')\n",
    "label1.grid(row=0,column=1,pady=10, padx=30)\n",
    "\n",
    "label2=Label(root,text='Text',font='ar 14')\n",
    "label2.grid(row=1,column=0,pady=10, padx=30)\n",
    "en=Entry(root,width=35)\n",
    "en.grid(row=1,column=1)\n",
    "\n",
    "btn=Button(root,text='SPEAK',font='13',bg='purple',fg='yellow',command=speak)\n",
    "btn.grid(row=2,column=1)\n",
    "\n",
    "root.mainloop()"
   ]
  },
  {
   "cell_type": "code",
   "execution_count": null,
   "id": "08322dbf",
   "metadata": {},
   "outputs": [],
   "source": []
  }
 ],
 "metadata": {
  "kernelspec": {
   "display_name": "Python 3 (ipykernel)",
   "language": "python",
   "name": "python3"
  },
  "language_info": {
   "codemirror_mode": {
    "name": "ipython",
    "version": 3
   },
   "file_extension": ".py",
   "mimetype": "text/x-python",
   "name": "python",
   "nbconvert_exporter": "python",
   "pygments_lexer": "ipython3",
   "version": "3.11.3"
  }
 },
 "nbformat": 4,
 "nbformat_minor": 5
}
